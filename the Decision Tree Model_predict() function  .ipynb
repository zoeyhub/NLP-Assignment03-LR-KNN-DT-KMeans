{
 "cells": [
  {
   "cell_type": "code",
   "execution_count": 120,
   "metadata": {},
   "outputs": [],
   "source": [
    "from collections import Counter\n",
    "from icecream import ic\n",
    "import pandas as pd \n",
    "import numpy as np"
   ]
  },
  {
   "cell_type": "code",
   "execution_count": 207,
   "metadata": {},
   "outputs": [
    {
     "name": "stdout",
     "output_type": "stream",
     "text": [
      "  gender income  family_number  bought\n",
      "0      F    +10              1       1\n",
      "1      F    -10              1       1\n",
      "2      F    +10              2       1\n",
      "3      F    +10              1       0\n",
      "4      M    +10              1       0\n",
      "5      M    +10              1       0\n",
      "6      M    -10              2       1\n"
     ]
    }
   ],
   "source": [
    "mock_data = {\n",
    "    'gender':['F','F','F','F','M','M','M'],\n",
    "    'income':['+10','-10','+10','+10','+10','+10','-10'],\n",
    "    'family_number':[1, 1, 2, 1, 1, 1, 2],\n",
    "    'bought':[1, 1, 1, 0, 0, 0, 1,]\n",
    "}\n",
    "\n",
    "dataset = pd.DataFrame.from_dict(mock_data)\n",
    "print(dataset)\n",
    "\n",
    "#混乱程度\n",
    "def entropy(elements):\n",
    "    counter = Counter(elements)\n",
    "    probs = [counter[c] / len(elements) for c in set(elements)]\n",
    "#    ic(probs)\n",
    "    return -np.sum(np.fromiter(((p * np.log(p)) for p in probs),float))\n",
    "\n",
    "#筛选一个特征\n",
    "def find_the_optimal_spliter(training_data:pd.DataFrame, target:str) ->str:\n",
    "    x_fields = set(training_data.columns.tolist()) - {target}\n",
    "    \n",
    "    spliter = None\n",
    "    min_entropy = float('inf') #正无穷（负无穷：float('-inf'）)\n",
    "    \n",
    "    for f in x_fields:\n",
    "        values = set(training_data[f]) #eg. f:'gender' --> values = {'M', 'F'}\n",
    "        i = 0\n",
    "        val = []\n",
    "        for v in values:\n",
    "            #按f列中的v元素，筛列出 对应的 目的（target）列的 元素（0,1） 的列表\n",
    "            sub_spliter_1 = training_data[training_data[f] == v][target].tolist()\n",
    "            entropy_1 = entropy(sub_spliter_1)\n",
    "            \n",
    "            val.append(v)\n",
    "            i += 1\n",
    "            \n",
    "            sub_spliter_2 = training_data[training_data[f] != v][target].tolist()\n",
    "            entropy_2 = entropy(sub_spliter_2)\n",
    "            \n",
    "            entropy_v = entropy_1 + entropy_2\n",
    "            \n",
    "            if entropy_v < min_entropy:\n",
    "                min_entropy = entropy_v\n",
    "                spliter = (f,v)\n",
    "                \n",
    "            # 选择混乱程度大的元素类，作为下一次特征选取的调用值   \n",
    "            if entropy_v == min_entropy:\n",
    "                if entropy_1 > entropy_2:\n",
    "                    v = val[i-1]\n",
    "                    spliter = (f,v)\n",
    "                                       \n",
    "#    print('spliter is: {}'.format(spliter))\n",
    "#    print('the min_entropy is: {}'.format(min_entropy))\n",
    "    \n",
    "    return spliter\n",
    "\n",
    "#筛选次特征\n",
    "def find_the_1and2_optimal_spliter():\n",
    "    s_1 = find_the_optimal_spliter(training_data=dataset,target='bought')\n",
    "    s_2 = find_the_optimal_spliter(dataset[dataset[s_1[0]]==s_1[1]],'bought')\n",
    "    return s_1 + s_2\n",
    "\n",
    "\n",
    "# 预测函数\n",
    "def predict(gender, income, family_number):\n",
    "    sp = find_the_1and2_optimal_spliter() #如('income', '+10', 'family_number', 1)\n",
    "    print('the two_spliters are {}'.format(sp))\n",
    "    \n",
    "    get = {'gender':gender,'income':income,'family_number':family_number} # 存储\n",
    "    \n",
    "    output_1 = 'the outcome of prediction is 1'\n",
    "    output_0 = 'the outcome of prediction is 0'\n",
    "        \n",
    "    end = dataset[dataset[sp[2]] == sp[3]]['bought'].tolist() \n",
    "    ran = float(Counter(end)[0] / len(end)) #经过两个特征筛选后，输出为0的概率\n",
    "    ran_ = np.random.random() # 0到1 之间的随机浮点数\n",
    "    \n",
    "    #决策过程\n",
    "    if get[sp[0]] == sp[1] and get[sp[2]] == str(sp[3]) and ran_ < ran:\n",
    "        return 0\n",
    "    else:\n",
    "        return 1\n"
   ]
  },
  {
   "cell_type": "code",
   "execution_count": 211,
   "metadata": {},
   "outputs": [
    {
     "name": "stdout",
     "output_type": "stream",
     "text": [
      "the two_spliters are ('income', '+10', 'family_number', 1)\n"
     ]
    },
    {
     "data": {
      "text/plain": [
       "1"
      ]
     },
     "execution_count": 211,
     "metadata": {},
     "output_type": "execute_result"
    }
   ],
   "source": [
    "predict('M','-10','1')"
   ]
  },
  {
   "cell_type": "code",
   "execution_count": null,
   "metadata": {},
   "outputs": [],
   "source": []
  }
 ],
 "metadata": {
  "kernelspec": {
   "display_name": "Python 3",
   "language": "python",
   "name": "python3"
  },
  "language_info": {
   "codemirror_mode": {
    "name": "ipython",
    "version": 3
   },
   "file_extension": ".py",
   "mimetype": "text/x-python",
   "name": "python",
   "nbconvert_exporter": "python",
   "pygments_lexer": "ipython3",
   "version": "3.7.3"
  }
 },
 "nbformat": 4,
 "nbformat_minor": 2
}
