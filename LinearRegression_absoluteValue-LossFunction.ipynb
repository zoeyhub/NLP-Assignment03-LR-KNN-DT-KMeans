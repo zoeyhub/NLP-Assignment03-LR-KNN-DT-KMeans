{
 "cells": [
  {
   "cell_type": "code",
   "execution_count": 31,
   "metadata": {},
   "outputs": [],
   "source": [
    "from sklearn.datasets import load_boston\n",
    "import random\n",
    "import matplotlib.pyplot as plt"
   ]
  },
  {
   "cell_type": "code",
   "execution_count": 32,
   "metadata": {},
   "outputs": [],
   "source": [
    "dataset = load_boston() #加载数据集\n",
    "x,y=dataset['data'],dataset['target']\n",
    "X_rm = x[:,5]"
   ]
  },
  {
   "cell_type": "code",
   "execution_count": 33,
   "metadata": {},
   "outputs": [
    {
     "data": {
      "text/plain": [
       "<matplotlib.collections.PathCollection at 0x28708abb048>"
      ]
     },
     "execution_count": 33,
     "metadata": {},
     "output_type": "execute_result"
    },
    {
     "data": {
      "image/png": "[encoded data removed]",
      "text/plain": [
       "<Figure size 432x288 with 1 Axes>"
      ]
     },
     "metadata": {
      "needs_background": "light"
     },
     "output_type": "display_data"
    }
   ],
   "source": [
    "plt.scatter(X_rm,y)"
   ]
  },
  {
   "cell_type": "markdown",
   "metadata": {},
   "source": [
    "### Gradient descent"
   ]
  },
  {
   "cell_type": "markdown",
   "metadata": {},
   "source": [
    "### Assume that the target funciton is a linear function\n",
    "$$ y = k*rm + b$$"
   ]
  },
  {
   "cell_type": "code",
   "execution_count": 34,
   "metadata": {},
   "outputs": [],
   "source": [
    "#define target function\n",
    "def price(rm, k, b):\n",
    "    return k * rm + b"
   ]
  },
  {
   "cell_type": "markdown",
   "metadata": {},
   "source": [
    "### Define mean square loss"
   ]
  },
  {
   "cell_type": "markdown",
   "metadata": {},
   "source": [
    "$$ loss = \\frac{1}{n} \\sum{\\mid y_i - \\hat{y_i}\\mid}$$"
   ]
  },
  {
   "cell_type": "markdown",
   "metadata": {},
   "source": [
    "$$ loss = \\frac{1}{n} \\sum{\\mid y_i - (kx_i + b_i) \\mid}$$"
   ]
  },
  {
   "cell_type": "code",
   "execution_count": 35,
   "metadata": {},
   "outputs": [],
   "source": [
    "# define loss function \n",
    "def loss(y,y_hat):\n",
    "    s=0\n",
    "    for y_i, y_hat_i in zip(list(y),list(y_hat)):\n",
    "        if y_i > y_hat_i:\n",
    "            s += (y_i - y_hat_i)\n",
    "        if y_i < y_hat_i:\n",
    "            s += (y_hat_i - y_i)\n",
    "    return s/len(list(y))"
   ]
  },
  {
   "cell_type": "markdown",
   "metadata": {},
   "source": [
    "### Define partial derivatives"
   ]
  },
  {
   "cell_type": "markdown",
   "metadata": {},
   "source": [
    "$$ y > \\hat y $$\n",
    "$$ \\frac{\\partial{loss}}{\\partial{k}} = -\\frac{1}{n}\\sum x_i$$\n",
    "$$ \\frac{\\partial{loss}}{\\partial{b}} = -1$$"
   ]
  },
  {
   "cell_type": "markdown",
   "metadata": {},
   "source": [
    "$$ y < \\hat y $$\n",
    "$$ \\frac{\\partial{loss}}{\\partial{k}} = \\frac{1}{n}\\sum x_i$$\n",
    "$$ \\frac{\\partial{loss}}{\\partial{b}} = 1 $$"
   ]
  },
  {
   "cell_type": "code",
   "execution_count": 36,
   "metadata": {},
   "outputs": [],
   "source": [
    "# define partial derivative \n",
    "def partial_derivative_k(x, y, y_hat): \n",
    "    n = len(y)\n",
    "    gradient = 0\n",
    "    for x_i, y_i, y_hat_i in zip(list(x),list(y),list(y_hat)):\n",
    "        if y_i>y_hat_i:\n",
    "            gradient += x_i\n",
    "        else:\n",
    "            gradient += x_i*(-1)\n",
    "    return -1/n * gradient\n",
    "\n",
    "    \n",
    "def partial_derivative_b(y, y_hat):\n",
    "    for x_i, y_i, y_hat_i in zip(list(x),list(y),list(y_hat)):\n",
    "        if y_i>y_hat_i:\n",
    "            return -1\n",
    "        else:\n",
    "            return 1"
   ]
  },
  {
   "cell_type": "code",
   "execution_count": 37,
   "metadata": {},
   "outputs": [
    {
     "name": "stdout",
     "output_type": "stream",
     "text": [
      "Iteration 0, the loss is 235.39371319185034, parameters k is -30.224530024910564 and b is -22.910786131640506\n",
      "Iteration 1, the loss is 235.35321656246768, parameters k is -30.21824539052321 and b is -22.909786131640505\n",
      "Iteration 2, the loss is 235.31271993308485, parameters k is -30.21196075613586 and b is -22.908786131640504\n",
      "Iteration 3, the loss is 235.2722233037024, parameters k is -30.205676121748507 and b is -22.907786131640503\n",
      "Iteration 4, the loss is 235.23172667431967, parameters k is -30.199391487361154 and b is -22.9067861316405\n",
      "Iteration 5, the loss is 235.1912300449371, parameters k is -30.193106852973802 and b is -22.9057861316405\n",
      "Iteration 6, the loss is 235.15073341555424, parameters k is -30.18682221858645 and b is -22.9047861316405\n",
      "Iteration 7, the loss is 235.11023678617164, parameters k is -30.180537584199097 and b is -22.903786131640498\n",
      "Iteration 8, the loss is 235.06974015678875, parameters k is -30.174252949811745 and b is -22.902786131640497\n",
      "Iteration 9, the loss is 235.02924352740604, parameters k is -30.167968315424393 and b is -22.901786131640495\n",
      "Iteration 10, the loss is 234.98874689802338, parameters k is -30.16168368103704 and b is -22.900786131640494\n",
      "Iteration 11, the loss is 234.9482502686407, parameters k is -30.155399046649688 and b is -22.899786131640493\n",
      "Iteration 12, the loss is 234.90775363925803, parameters k is -30.149114412262335 and b is -22.89878613164049\n",
      "Iteration 13, the loss is 234.8672570098756, parameters k is -30.142829777874983 and b is -22.89778613164049\n",
      "Iteration 14, the loss is 234.8267603804928, parameters k is -30.13654514348763 and b is -22.89678613164049\n",
      "Iteration 15, the loss is 234.78626375111006, parameters k is -30.130260509100278 and b is -22.895786131640488\n",
      "Iteration 16, the loss is 234.74576712172723, parameters k is -30.123975874712926 and b is -22.894786131640487\n",
      "Iteration 17, the loss is 234.70527049234474, parameters k is -30.117691240325573 and b is -22.893786131640486\n",
      "Iteration 18, the loss is 234.66477386296177, parameters k is -30.11140660593822 and b is -22.892786131640484\n",
      "Iteration 19, the loss is 234.62427723357922, parameters k is -30.10512197155087 and b is -22.891786131640483\n",
      "Iteration 20, the loss is 234.58378060419668, parameters k is -30.098837337163516 and b is -22.890786131640482\n",
      "Iteration 21, the loss is 234.5432839748137, parameters k is -30.092552702776164 and b is -22.88978613164048\n",
      "Iteration 22, the loss is 234.50278734543116, parameters k is -30.08626806838881 and b is -22.88878613164048\n",
      "Iteration 23, the loss is 234.46229071604847, parameters k is -30.07998343400146 and b is -22.88778613164048\n",
      "Iteration 24, the loss is 234.42179408666598, parameters k is -30.073698799614107 and b is -22.886786131640477\n",
      "Iteration 25, the loss is 234.3812974572834, parameters k is -30.067414165226754 and b is -22.885786131640476\n",
      "Iteration 26, the loss is 234.3408008279005, parameters k is -30.061129530839402 and b is -22.884786131640475\n",
      "Iteration 27, the loss is 234.30030419851764, parameters k is -30.05484489645205 and b is -22.883786131640473\n",
      "Iteration 28, the loss is 234.25980756913495, parameters k is -30.048560262064697 and b is -22.882786131640472\n",
      "Iteration 29, the loss is 234.21931093975235, parameters k is -30.042275627677345 and b is -22.88178613164047\n",
      "Iteration 30, the loss is 234.1788143103698, parameters k is -30.035990993289992 and b is -22.88078613164047\n",
      "Iteration 31, the loss is 234.1383176809871, parameters k is -30.02970635890264 and b is -22.87978613164047\n",
      "Iteration 32, the loss is 234.09782105160443, parameters k is -30.023421724515288 and b is -22.878786131640467\n",
      "Iteration 33, the loss is 234.05732442222163, parameters k is -30.017137090127935 and b is -22.877786131640466\n",
      "Iteration 34, the loss is 234.0168277928392, parameters k is -30.010852455740583 and b is -22.876786131640465\n",
      "Iteration 35, the loss is 233.97633116345636, parameters k is -30.00456782135323 and b is -22.875786131640464\n",
      "Iteration 36, the loss is 233.9358345340735, parameters k is -29.998283186965878 and b is -22.874786131640462\n",
      "Iteration 37, the loss is 233.89533790469096, parameters k is -29.991998552578526 and b is -22.87378613164046\n",
      "Iteration 38, the loss is 233.85484127530816, parameters k is -29.985713918191173 and b is -22.87278613164046\n",
      "Iteration 39, the loss is 233.81434464592567, parameters k is -29.97942928380382 and b is -22.87178613164046\n",
      "Iteration 40, the loss is 233.7738480165428, parameters k is -29.97314464941647 and b is -22.870786131640457\n",
      "Iteration 41, the loss is 233.73335138716035, parameters k is -29.966860015029116 and b is -22.869786131640456\n",
      "Iteration 42, the loss is 233.6928547577777, parameters k is -29.960575380641764 and b is -22.868786131640455\n",
      "Iteration 43, the loss is 233.65235812839487, parameters k is -29.95429074625441 and b is -22.867786131640454\n",
      "Iteration 44, the loss is 233.6118614990121, parameters k is -29.94800611186706 and b is -22.866786131640453\n",
      "Iteration 45, the loss is 233.57136486962932, parameters k is -29.941721477479707 and b is -22.86578613164045\n",
      "Iteration 46, the loss is 233.53086824024678, parameters k is -29.935436843092354 and b is -22.86478613164045\n",
      "Iteration 47, the loss is 233.49037161086417, parameters k is -29.929152208705002 and b is -22.86378613164045\n",
      "Iteration 48, the loss is 233.4498749814814, parameters k is -29.92286757431765 and b is -22.862786131640448\n",
      "Iteration 49, the loss is 233.40937835209854, parameters k is -29.916582939930297 and b is -22.861786131640446\n",
      "Iteration 50, the loss is 233.36888172271622, parameters k is -29.910298305542945 and b is -22.860786131640445\n",
      "Iteration 51, the loss is 233.3283850933332, parameters k is -29.904013671155592 and b is -22.859786131640444\n",
      "Iteration 52, the loss is 233.28788846395045, parameters k is -29.89772903676824 and b is -22.858786131640443\n",
      "Iteration 53, the loss is 233.2473918345679, parameters k is -29.891444402380888 and b is -22.85778613164044\n",
      "Iteration 54, the loss is 233.20689520518522, parameters k is -29.885159767993535 and b is -22.85678613164044\n",
      "Iteration 55, the loss is 233.16639857580225, parameters k is -29.878875133606183 and b is -22.85578613164044\n",
      "Iteration 56, the loss is 233.12590194641967, parameters k is -29.87259049921883 and b is -22.854786131640438\n",
      "Iteration 57, the loss is 233.08540531703727, parameters k is -29.866305864831478 and b is -22.853786131640437\n",
      "Iteration 58, the loss is 233.04490868765413, parameters k is -29.860021230444126 and b is -22.852786131640435\n",
      "Iteration 59, the loss is 233.00441205827175, parameters k is -29.853736596056773 and b is -22.851786131640434\n",
      "Iteration 60, the loss is 232.96391542888918, parameters k is -29.84745196166942 and b is -22.850786131640433\n",
      "Iteration 61, the loss is 232.9234187995061, parameters k is -29.84116732728207 and b is -22.849786131640432\n",
      "Iteration 62, the loss is 232.8829221701237, parameters k is -29.834882692894716 and b is -22.84878613164043\n",
      "Iteration 63, the loss is 232.8424255407407, parameters k is -29.828598058507364 and b is -22.84778613164043\n",
      "Iteration 64, the loss is 232.80192891135854, parameters k is -29.82231342412001 and b is -22.846786131640428\n",
      "Iteration 65, the loss is 232.76143228197566, parameters k is -29.81602878973266 and b is -22.845786131640427\n",
      "Iteration 66, the loss is 232.72093565259286, parameters k is -29.809744155345307 and b is -22.844786131640426\n",
      "Iteration 67, the loss is 232.68043902321014, parameters k is -29.803459520957954 and b is -22.843786131640424\n",
      "Iteration 68, the loss is 232.6399423938275, parameters k is -29.797174886570602 and b is -22.842786131640423\n",
      "Iteration 69, the loss is 232.59944576444508, parameters k is -29.79089025218325 and b is -22.841786131640422\n",
      "Iteration 70, the loss is 232.55894913506225, parameters k is -29.784605617795897 and b is -22.84078613164042\n",
      "Iteration 71, the loss is 232.51845250567936, parameters k is -29.778320983408545 and b is -22.83978613164042\n",
      "Iteration 72, the loss is 232.4779558762969, parameters k is -29.772036349021192 and b is -22.83878613164042\n",
      "Iteration 73, the loss is 232.43745924691416, parameters k is -29.76575171463384 and b is -22.837786131640417\n",
      "Iteration 74, the loss is 232.3969626175312, parameters k is -29.759467080246488 and b is -22.836786131640416\n",
      "Iteration 75, the loss is 232.35646598814847, parameters k is -29.753182445859135 and b is -22.835786131640415\n",
      "Iteration 76, the loss is 232.31596935876587, parameters k is -29.746897811471783 and b is -22.834786131640413\n",
      "Iteration 77, the loss is 232.27547272938338, parameters k is -29.74061317708443 and b is -22.833786131640412\n",
      "Iteration 78, the loss is 232.23497610000067, parameters k is -29.734328542697078 and b is -22.83278613164041\n",
      "Iteration 79, the loss is 232.19447947061838, parameters k is -29.728043908309726 and b is -22.83178613164041\n",
      "Iteration 80, the loss is 232.15398284123538, parameters k is -29.721759273922373 and b is -22.83078613164041\n",
      "Iteration 81, the loss is 232.11348621185252, parameters k is -29.71547463953502 and b is -22.829786131640407\n",
      "Iteration 82, the loss is 232.0729895824699, parameters k is -29.70919000514767 and b is -22.828786131640406\n",
      "Iteration 83, the loss is 232.03249295308703, parameters k is -29.702905370760316 and b is -22.827786131640405\n",
      "Iteration 84, the loss is 231.99199632370448, parameters k is -29.696620736372964 and b is -22.826786131640404\n",
      "Iteration 85, the loss is 231.95149969432188, parameters k is -29.69033610198561 and b is -22.825786131640402\n",
      "Iteration 86, the loss is 231.91100306493922, parameters k is -29.68405146759826 and b is -22.8247861316404\n",
      "Iteration 87, the loss is 231.87050643555622, parameters k is -29.677766833210907 and b is -22.8237861316404\n",
      "Iteration 88, the loss is 231.83000980617376, parameters k is -29.671482198823554 and b is -22.8227861316404\n",
      "Iteration 89, the loss is 231.78951317679096, parameters k is -29.665197564436202 and b is -22.821786131640398\n",
      "Iteration 90, the loss is 231.74901654740833, parameters k is -29.65891293004885 and b is -22.820786131640396\n",
      "Iteration 91, the loss is 231.70851991802562, parameters k is -29.652628295661497 and b is -22.819786131640395\n",
      "Iteration 92, the loss is 231.66802328864316, parameters k is -29.646343661274145 and b is -22.818786131640394\n",
      "Iteration 93, the loss is 231.62752665926027, parameters k is -29.640059026886792 and b is -22.817786131640393\n",
      "Iteration 94, the loss is 231.5870300298775, parameters k is -29.63377439249944 and b is -22.81678613164039\n",
      "Iteration 95, the loss is 231.54653340049484, parameters k is -29.627489758112088 and b is -22.81578613164039\n",
      "Iteration 96, the loss is 231.5060367711124, parameters k is -29.621205123724735 and b is -22.81478613164039\n",
      "Iteration 97, the loss is 231.4655401417295, parameters k is -29.614920489337383 and b is -22.813786131640388\n",
      "Iteration 98, the loss is 231.42504351234692, parameters k is -29.60863585495003 and b is -22.812786131640387\n",
      "Iteration 99, the loss is 231.38454688296417, parameters k is -29.602351220562678 and b is -22.811786131640385\n",
      "Iteration 100, the loss is 231.34405025358154, parameters k is -29.596066586175326 and b is -22.810786131640384\n",
      "Iteration 101, the loss is 231.30355362419877, parameters k is -29.589781951787973 and b is -22.809786131640383\n",
      "Iteration 102, the loss is 231.2630569948159, parameters k is -29.58349731740062 and b is -22.80878613164038\n",
      "Iteration 103, the loss is 231.22256036543357, parameters k is -29.57721268301327 and b is -22.80778613164038\n",
      "Iteration 104, the loss is 231.18206373605074, parameters k is -29.570928048625916 and b is -22.80678613164038\n",
      "Iteration 105, the loss is 231.14156710666816, parameters k is -29.564643414238564 and b is -22.805786131640378\n",
      "Iteration 106, the loss is 231.1010704772855, parameters k is -29.55835877985121 and b is -22.804786131640377\n",
      "Iteration 107, the loss is 231.0605738479026, parameters k is -29.55207414546386 and b is -22.803786131640376\n",
      "Iteration 108, the loss is 231.02007721852004, parameters k is -29.545789511076507 and b is -22.802786131640374\n",
      "Iteration 109, the loss is 230.9795805891373, parameters k is -29.539504876689154 and b is -22.801786131640373\n",
      "Iteration 110, the loss is 230.93908395975444, parameters k is -29.5332202423018 and b is -22.800786131640372\n",
      "Iteration 111, the loss is 230.8985873303719, parameters k is -29.52693560791445 and b is -22.79978613164037\n",
      "Iteration 112, the loss is 230.8580907009893, parameters k is -29.520650973527097 and b is -22.79878613164037\n",
      "Iteration 113, the loss is 230.81759407160675, parameters k is -29.514366339139745 and b is -22.79778613164037\n",
      "Iteration 114, the loss is 230.77709744222392, parameters k is -29.508081704752392 and b is -22.796786131640367\n",
      "Iteration 115, the loss is 230.7366008128411, parameters k is -29.50179707036504 and b is -22.795786131640366\n",
      "Iteration 116, the loss is 230.69610418345852, parameters k is -29.495512435977687 and b is -22.794786131640365\n",
      "Iteration 117, the loss is 230.65560755407566, parameters k is -29.489227801590335 and b is -22.793786131640363\n",
      "Iteration 118, the loss is 230.61511092469323, parameters k is -29.482943167202983 and b is -22.792786131640362\n",
      "Iteration 119, the loss is 230.5746142953104, parameters k is -29.47665853281563 and b is -22.79178613164036\n",
      "Iteration 120, the loss is 230.53411766592737, parameters k is -29.470373898428278 and b is -22.79078613164036\n",
      "Iteration 121, the loss is 230.493621036545, parameters k is -29.464089264040926 and b is -22.78978613164036\n",
      "Iteration 122, the loss is 230.45312440716225, parameters k is -29.457804629653573 and b is -22.788786131640357\n",
      "Iteration 123, the loss is 230.41262777777985, parameters k is -29.45151999526622 and b is -22.787786131640356\n",
      "Iteration 124, the loss is 230.37213114839693, parameters k is -29.44523536087887 and b is -22.786786131640355\n",
      "Iteration 125, the loss is 230.33163451901424, parameters k is -29.438950726491516 and b is -22.785786131640354\n",
      "Iteration 126, the loss is 230.29113788963159, parameters k is -29.432666092104164 and b is -22.784786131640352\n",
      "Iteration 127, the loss is 230.25064126024887, parameters k is -29.42638145771681 and b is -22.78378613164035\n",
      "Iteration 128, the loss is 230.21014463086618, parameters k is -29.42009682332946 and b is -22.78278613164035\n",
      "Iteration 129, the loss is 230.16964800148347, parameters k is -29.413812188942106 and b is -22.78178613164035\n",
      "Iteration 130, the loss is 230.12915137210086, parameters k is -29.407527554554754 and b is -22.780786131640347\n",
      "Iteration 131, the loss is 230.08865474271803, parameters k is -29.4012429201674 and b is -22.779786131640346\n",
      "Iteration 132, the loss is 230.04815811333552, parameters k is -29.39495828578005 and b is -22.778786131640345\n",
      "Iteration 133, the loss is 230.00766148395266, parameters k is -29.388673651392697 and b is -22.777786131640344\n",
      "Iteration 134, the loss is 229.96716485457017, parameters k is -29.382389017005345 and b is -22.776786131640343\n",
      "Iteration 135, the loss is 229.9266682251871, parameters k is -29.376104382617992 and b is -22.77578613164034\n",
      "Iteration 136, the loss is 229.88617159580463, parameters k is -29.36981974823064 and b is -22.77478613164034\n",
      "Iteration 137, the loss is 229.84567496642208, parameters k is -29.363535113843287 and b is -22.77378613164034\n",
      "Iteration 138, the loss is 229.80517833703948, parameters k is -29.357250479455935 and b is -22.772786131640338\n",
      "Iteration 139, the loss is 229.7646817076569, parameters k is -29.350965845068583 and b is -22.771786131640336\n",
      "Iteration 140, the loss is 229.72418507827393, parameters k is -29.34468121068123 and b is -22.770786131640335\n",
      "Iteration 141, the loss is 229.68368844889142, parameters k is -29.338396576293878 and b is -22.769786131640334\n",
      "Iteration 142, the loss is 229.64319181950853, parameters k is -29.332111941906525 and b is -22.768786131640333\n",
      "Iteration 143, the loss is 229.602695190126, parameters k is -29.325827307519173 and b is -22.76778613164033\n",
      "Iteration 144, the loss is 229.56219856074316, parameters k is -29.31954267313182 and b is -22.76678613164033\n",
      "Iteration 145, the loss is 229.52170193136047, parameters k is -29.31325803874447 and b is -22.76578613164033\n",
      "Iteration 146, the loss is 229.48120530197764, parameters k is -29.306973404357116 and b is -22.764786131640328\n",
      "Iteration 147, the loss is 229.4407086725952, parameters k is -29.300688769969764 and b is -22.763786131640327\n",
      "Iteration 148, the loss is 229.40021204321232, parameters k is -29.29440413558241 and b is -22.762786131640325\n",
      "Iteration 149, the loss is 229.35971541382952, parameters k is -29.28811950119506 and b is -22.761786131640324\n",
      "Iteration 150, the loss is 229.319218784447, parameters k is -29.281834866807706 and b is -22.760786131640323\n",
      "Iteration 151, the loss is 229.27872215506437, parameters k is -29.275550232420354 and b is -22.759786131640322\n",
      "Iteration 152, the loss is 229.23822552568194, parameters k is -29.269265598033 and b is -22.75878613164032\n",
      "Iteration 153, the loss is 229.19772889629886, parameters k is -29.26298096364565 and b is -22.75778613164032\n",
      "Iteration 154, the loss is 229.15723226691634, parameters k is -29.256696329258297 and b is -22.756786131640318\n",
      "Iteration 155, the loss is 229.11673563753342, parameters k is -29.250411694870945 and b is -22.755786131640317\n",
      "Iteration 156, the loss is 229.07623900815068, parameters k is -29.244127060483592 and b is -22.754786131640316\n",
      "Iteration 157, the loss is 229.03574237876802, parameters k is -29.23784242609624 and b is -22.753786131640314\n",
      "Iteration 158, the loss is 228.99524574938556, parameters k is -29.231557791708887 and b is -22.752786131640313\n",
      "Iteration 159, the loss is 228.95474912000273, parameters k is -29.225273157321535 and b is -22.751786131640312\n",
      "Iteration 160, the loss is 228.91425249062002, parameters k is -29.218988522934183 and b is -22.75078613164031\n",
      "Iteration 161, the loss is 228.87375586123719, parameters k is -29.21270388854683 and b is -22.74978613164031\n",
      "Iteration 162, the loss is 228.83325923185467, parameters k is -29.206419254159478 and b is -22.74878613164031\n",
      "Iteration 163, the loss is 228.79276260247204, parameters k is -29.200134619772125 and b is -22.747786131640307\n",
      "Iteration 164, the loss is 228.75226597308935, parameters k is -29.193849985384773 and b is -22.746786131640306\n",
      "Iteration 165, the loss is 228.71176934370624, parameters k is -29.18756535099742 and b is -22.745786131640305\n",
      "Iteration 166, the loss is 228.6712727143241, parameters k is -29.18128071661007 and b is -22.744786131640303\n",
      "Iteration 167, the loss is 228.63077608494117, parameters k is -29.174996082222716 and b is -22.743786131640302\n",
      "Iteration 168, the loss is 228.59027945555852, parameters k is -29.168711447835364 and b is -22.7427861316403\n",
      "Iteration 169, the loss is 228.54978282617577, parameters k is -29.16242681344801 and b is -22.7417861316403\n",
      "Iteration 170, the loss is 228.50928619679303, parameters k is -29.15614217906066 and b is -22.7407861316403\n",
      "Iteration 171, the loss is 228.46878956741062, parameters k is -29.149857544673306 and b is -22.739786131640297\n",
      "Iteration 172, the loss is 228.42829293802782, parameters k is -29.143572910285954 and b is -22.738786131640296\n",
      "Iteration 173, the loss is 228.38779630864528, parameters k is -29.1372882758986 and b is -22.737786131640295\n",
      "Iteration 174, the loss is 228.34729967926242, parameters k is -29.13100364151125 and b is -22.736786131640294\n",
      "Iteration 175, the loss is 228.3068030498796, parameters k is -29.124719007123897 and b is -22.735786131640292\n",
      "Iteration 176, the loss is 228.26630642049702, parameters k is -29.118434372736544 and b is -22.73478613164029\n",
      "Iteration 177, the loss is 228.22580979111424, parameters k is -29.112149738349192 and b is -22.73378613164029\n",
      "Iteration 178, the loss is 228.18531316173164, parameters k is -29.10586510396184 and b is -22.73278613164029\n",
      "Iteration 179, the loss is 228.1448165323491, parameters k is -29.099580469574487 and b is -22.731786131640288\n",
      "Iteration 180, the loss is 228.10431990296627, parameters k is -29.093295835187135 and b is -22.730786131640286\n",
      "Iteration 181, the loss is 228.06382327358378, parameters k is -29.087011200799783 and b is -22.729786131640285\n",
      "Iteration 182, the loss is 228.0233266442008, parameters k is -29.08072656641243 and b is -22.728786131640284\n",
      "Iteration 183, the loss is 227.98283001481818, parameters k is -29.074441932025078 and b is -22.727786131640283\n",
      "Iteration 184, the loss is 227.94233338543546, parameters k is -29.068157297637725 and b is -22.72678613164028\n",
      "Iteration 185, the loss is 227.90183675605286, parameters k is -29.061872663250373 and b is -22.72578613164028\n"
     ]
    },
    {
     "name": "stdout",
     "output_type": "stream",
     "text": [
      "Iteration 186, the loss is 227.86134012666997, parameters k is -29.05558802886302 and b is -22.72478613164028\n",
      "Iteration 187, the loss is 227.82084349728746, parameters k is -29.04930339447567 and b is -22.723786131640278\n",
      "Iteration 188, the loss is 227.78034686790477, parameters k is -29.043018760088316 and b is -22.722786131640277\n",
      "Iteration 189, the loss is 227.73985023852202, parameters k is -29.036734125700963 and b is -22.721786131640275\n",
      "Iteration 190, the loss is 227.69935360913937, parameters k is -29.03044949131361 and b is -22.720786131640274\n",
      "Iteration 191, the loss is 227.65885697975668, parameters k is -29.02416485692626 and b is -22.719786131640273\n",
      "Iteration 192, the loss is 227.61836035037393, parameters k is -29.017880222538906 and b is -22.71878613164027\n",
      "Iteration 193, the loss is 227.57786372099133, parameters k is -29.011595588151554 and b is -22.71778613164027\n",
      "Iteration 194, the loss is 227.5373670916086, parameters k is -29.0053109537642 and b is -22.71678613164027\n",
      "Iteration 195, the loss is 227.49687046222596, parameters k is -28.99902631937685 and b is -22.715786131640268\n",
      "Iteration 196, the loss is 227.45637383284352, parameters k is -28.992741684989497 and b is -22.714786131640267\n",
      "Iteration 197, the loss is 227.4158772034609, parameters k is -28.986457050602144 and b is -22.713786131640266\n",
      "Iteration 198, the loss is 227.37538057407778, parameters k is -28.980172416214792 and b is -22.712786131640264\n",
      "Iteration 199, the loss is 227.33488394469524, parameters k is -28.97388778182744 and b is -22.711786131640263\n"
     ]
    }
   ],
   "source": [
    "#initialized parameters\n",
    "\n",
    "k = random.random() * 200 - 100  # -100 100\n",
    "b = random.random() * 200 - 100  # -100 100\n",
    "\n",
    "learning_rate = 1e-3\n",
    "\n",
    "iteration_num = 200 \n",
    "losses = []\n",
    "for i in range(iteration_num):\n",
    "    \n",
    "    price_use_current_parameters = [price(r, k, b) for r in X_rm]  # \\hat{y}\n",
    "    \n",
    "    current_loss = loss(y, price_use_current_parameters)\n",
    "    losses.append(current_loss)\n",
    "    print(\"Iteration {}, the loss is {}, parameters k is {} and b is {}\".format(i,current_loss,k,b))\n",
    "    \n",
    "    k_gradient = partial_derivative_k(X_rm, y, price_use_current_parameters)\n",
    "    b_gradient = partial_derivative_b(y, price_use_current_parameters)\n",
    "    \n",
    "    k = k + (-1 * k_gradient) * learning_rate\n",
    "    b = b + (-1 * b_gradient) * learning_rate\n",
    "best_k = k\n",
    "best_b = b"
   ]
  },
  {
   "cell_type": "code",
   "execution_count": 38,
   "metadata": {},
   "outputs": [
    {
     "data": {
      "text/plain": [
       "[<matplotlib.lines.Line2D at 0x28708b15898>]"
      ]
     },
     "execution_count": 38,
     "metadata": {},
     "output_type": "execute_result"
    },
    {
     "data": {
      "image/png": "[encoded data removed]",
      "text/plain": [
       "<Figure size 432x288 with 1 Axes>"
      ]
     },
     "metadata": {
      "needs_background": "light"
     },
     "output_type": "display_data"
    }
   ],
   "source": [
    "plt.plot(list(range(iteration_num)),losses)"
   ]
  },
  {
   "cell_type": "code",
   "execution_count": 40,
   "metadata": {},
   "outputs": [
    {
     "data": {
      "text/plain": [
       "<matplotlib.collections.PathCollection at 0x28708be0e80>"
      ]
     },
     "execution_count": 40,
     "metadata": {},
     "output_type": "execute_result"
    },
    {
     "data": {
      "image/png": "[encoded data removed]",
      "text/plain": [
       "<Figure size 432x288 with 1 Axes>"
      ]
     },
     "metadata": {
      "needs_background": "light"
     },
     "output_type": "display_data"
    }
   ],
   "source": [
    "price_use_best_parameters = [price(r, best_k, best_b) for r in X_rm]\n",
    "\n",
    "plt.scatter(X_rm,y)\n",
    "plt.scatter(X_rm,price_use_current_parameters)"
   ]
  },
  {
   "cell_type": "code",
   "execution_count": null,
   "metadata": {},
   "outputs": [],
   "source": []
  },
  {
   "cell_type": "code",
   "execution_count": null,
   "metadata": {},
   "outputs": [],
   "source": []
  }
 ],
 "metadata": {
  "kernelspec": {
   "display_name": "Python 3",
   "language": "python",
   "name": "python3"
  },
  "language_info": {
   "codemirror_mode": {
    "name": "ipython",
    "version": 3
   },
   "file_extension": ".py",
   "mimetype": "text/x-python",
   "name": "python",
   "nbconvert_exporter": "python",
   "pygments_lexer": "ipython3",
   "version": "3.7.3"
  }
 },
 "nbformat": 4,
 "nbformat_minor": 2
}
