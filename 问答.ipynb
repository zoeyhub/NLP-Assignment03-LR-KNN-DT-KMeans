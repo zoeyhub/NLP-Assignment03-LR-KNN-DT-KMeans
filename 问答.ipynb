{
 "cells": [
  {
   "cell_type": "markdown",
   "metadata": {},
   "source": [
    "### 1. What's the *model*? why  all the models are wrong, but some are useful?"
   ]
  },
  {
   "cell_type": "markdown",
   "metadata": {},
   "source": [
    "Ans：\n",
    "   - 借助实体或虚拟，用于方便阐述某种想要表达的意图，可以从特征因素映射到某个结果\n",
    "   - 构建模型无法将所有涉及到的特征因素考虑在内，增加模型复杂度的同时，增加模型应用难度。但在特定场景下，一些因素对结果影响不大，可以忽略，所构建的模型可以实际应用。"
   ]
  },
  {
   "cell_type": "markdown",
   "metadata": {},
   "source": [
    "### 2. What's the underfitting and overfitting? List the reasons that could make model overfitting or underfitting."
   ]
  },
  {
   "cell_type": "markdown",
   "metadata": {},
   "source": [
    "Ans：\n",
    "   - 过拟合：拟合准确度过高，拟合误差过低，导致数据变动情况下，拟合函数不稳定\n",
    "   - 欠拟合：拟合准确度低，拟合误差大，拟合函数较稳定，因此在数据变化较大情况下，不能很好的反应数据的变化"
   ]
  },
  {
   "cell_type": "markdown",
   "metadata": {},
   "source": [
    "### 3. What's the precision, recall, AUC, F1, F2score. What are they mainly target on? "
   ]
  },
  {
   "cell_type": "markdown",
   "metadata": {},
   "source": [
    "Ans：\n",
    "   - `Precision`: 所有说“是”的预测而且预测正确 / 所有说“是”的预测个数\n",
    "    - 针对预测正确的正样本\n",
    "   - `Recall`: 所有说“是”的预测而且预测正确 / 所有真正标签是“是”\n",
    "    - 在实际正样本中，分类器能预测出多少，查全率\n",
    "   - `AUC`：Area Under the ROC Curve，ROC曲线下的面积，通常大于0.5小于1\n",
    "    - 对于任意一对正负例样本,模型将正样本预测为正例的可能性大于将负例预测为正例的可能性的概率\n",
    "    - AUC越大，性能越好\n",
    "   - `F1 Score`  = $ \\frac{2*precision*recall}{precision + recall} $\n",
    "    - 精确率和召回率的调和值"
   ]
  },
  {
   "cell_type": "markdown",
   "metadata": {},
   "source": [
    "### 4. Based on our course and yourself mind, what's the machine learning?"
   ]
  },
  {
   "cell_type": "markdown",
   "metadata": {},
   "source": [
    "Ans:\n",
    "   - 数据驱动的、用计算机自主解决问题的方式策略"
   ]
  },
  {
   "cell_type": "markdown",
   "metadata": {},
   "source": [
    "### 5. \"正确定义了机器学习模型的评价标准(evaluation)， 问题基本上就已经解决一半\". 这句话是否正确？你是怎么看待的？"
   ]
  },
  {
   "cell_type": "markdown",
   "metadata": {},
   "source": [
    "Ans：\n",
    "   - 正确\n",
    "   - 评价指标侧面表示模型的实现思路，好的指标可以好地真实地反应模型性能，进而更好地改善模型。"
   ]
  },
  {
   "cell_type": "code",
   "execution_count": null,
   "metadata": {},
   "outputs": [],
   "source": []
  }
 ],
 "metadata": {
  "kernelspec": {
   "display_name": "Python 3",
   "language": "python",
   "name": "python3"
  },
  "language_info": {
   "codemirror_mode": {
    "name": "ipython",
    "version": 3
   },
   "file_extension": ".py",
   "mimetype": "text/x-python",
   "name": "python",
   "nbconvert_exporter": "python",
   "pygments_lexer": "ipython3",
   "version": "3.7.3"
  }
 },
 "nbformat": 4,
 "nbformat_minor": 2
}
